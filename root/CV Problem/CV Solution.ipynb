{
 "cells": [
  {
   "cell_type": "markdown",
   "metadata": {},
   "source": [
    "# Computer Vision Problem "
   ]
  },
  {
   "cell_type": "markdown",
   "metadata": {},
   "source": [
    "### Importing Necessary Layers"
   ]
  },
  {
   "cell_type": "code",
   "execution_count": 1,
   "metadata": {},
   "outputs": [
    {
     "name": "stderr",
     "output_type": "stream",
     "text": [
      "Using TensorFlow backend.\n"
     ]
    }
   ],
   "source": [
    "import pickle\n",
    "import numpy as np\n",
    "import pandas as pd\n",
    "from keras.models import Sequential\n",
    "from keras.layers import Dense,Flatten,Conv2D,MaxPooling2D,Dropout\n",
    "from keras.utils import to_categorical\n",
    "from sklearn.model_selection import train_test_split\n",
    "from sklearn.utils import shuffle"
   ]
  },
  {
   "cell_type": "markdown",
   "metadata": {},
   "source": [
    "### Loading Training and Testing Data"
   ]
  },
  {
   "cell_type": "code",
   "execution_count": 2,
   "metadata": {},
   "outputs": [],
   "source": [
    "with open('train_image.pkl', 'rb') as f:\n",
    "    data = pickle.load(f)\n",
    "\n",
    "data=np.array(data)\n",
    "\n",
    "with open('train_label.pkl', 'rb') as f:\n",
    "    label = pickle.load(f)\n",
    "\n",
    "label=np.array(label)\n",
    "\n",
    "with open('test_image.pkl', 'rb') as f:\n",
    "    test = pickle.load(f)\n",
    "\n",
    "test=np.array(test)"
   ]
  },
  {
   "cell_type": "markdown",
   "metadata": {},
   "source": [
    "### Normalizing the Pixel Values"
   ]
  },
  {
   "cell_type": "code",
   "execution_count": 3,
   "metadata": {},
   "outputs": [],
   "source": [
    "data=data/255.0\n",
    "test=test/255.0"
   ]
  },
  {
   "cell_type": "markdown",
   "metadata": {},
   "source": [
    "### Shuffle Data and Split into train and test"
   ]
  },
  {
   "cell_type": "code",
   "execution_count": 4,
   "metadata": {},
   "outputs": [],
   "source": [
    "data,label=shuffle(data,label)\n",
    "\n",
    "x_train,x_test,y_train,y_test=train_test_split(data,label,test_size=0.2)"
   ]
  },
  {
   "cell_type": "markdown",
   "metadata": {},
   "source": [
    "### Reshape Image Data to 2D Pixel Array"
   ]
  },
  {
   "cell_type": "code",
   "execution_count": 5,
   "metadata": {},
   "outputs": [],
   "source": [
    "x_train=(np.reshape(x_train,[-1,28,28,1]))\n",
    "x_test=(np.reshape(x_test,[-1,28,28,1]))\n",
    "test=(np.reshape(test,[-1,28,28,1]))"
   ]
  },
  {
   "cell_type": "markdown",
   "metadata": {},
   "source": [
    "### Once Hot Encoding of Labels"
   ]
  },
  {
   "cell_type": "code",
   "execution_count": 6,
   "metadata": {},
   "outputs": [],
   "source": [
    "y_train=(to_categorical(y_train,7))\n",
    "y_test=(to_categorical(y_test,7))"
   ]
  },
  {
   "cell_type": "markdown",
   "metadata": {},
   "source": [
    "### Creating Model Object"
   ]
  },
  {
   "cell_type": "code",
   "execution_count": 7,
   "metadata": {},
   "outputs": [],
   "source": [
    "model=Sequential()"
   ]
  },
  {
   "cell_type": "markdown",
   "metadata": {},
   "source": [
    "### Creating Layers Needed "
   ]
  },
  {
   "cell_type": "code",
   "execution_count": 8,
   "metadata": {},
   "outputs": [],
   "source": [
    "conv1=Conv2D(filters=64,kernel_size=(3,3),strides=1,padding='same',activation='relu',input_shape=(28,28,1))\n",
    "conv2=Conv2D(filters=64,kernel_size=(3,3),strides=1,padding='same',activation='relu')\n",
    "maxpool1=MaxPooling2D(pool_size=2,strides=2,padding='same')\n",
    "maxpool2=MaxPooling2D(pool_size=2,strides=2,padding='same')\n",
    "hidden=Dense(units=1024,activation='relu')\n",
    "ouput=Dense(units=7,activation='softmax')\n",
    "droupout=Dropout(rate=0.2)"
   ]
  },
  {
   "cell_type": "markdown",
   "metadata": {},
   "source": [
    "### Adding Layers to the Model"
   ]
  },
  {
   "cell_type": "code",
   "execution_count": 9,
   "metadata": {},
   "outputs": [],
   "source": [
    "model.add(conv1)\n",
    "model.add(maxpool1)\n",
    "model.add(conv2)\n",
    "model.add(maxpool2)\n",
    "model.add(Flatten())\n",
    "model.add(hidden)\n",
    "model.add(droupout)\n",
    "model.add(ouput)"
   ]
  },
  {
   "cell_type": "markdown",
   "metadata": {},
   "source": [
    "### Compile and Fit the Model"
   ]
  },
  {
   "cell_type": "code",
   "execution_count": 10,
   "metadata": {},
   "outputs": [
    {
     "name": "stdout",
     "output_type": "stream",
     "text": [
      "Epoch 1/20\n",
      "6400/6400 [==============================] - 8s 1ms/step - loss: 0.6954 - acc: 0.7108\n",
      "Epoch 2/20\n",
      "6400/6400 [==============================] - 3s 420us/step - loss: 0.4730 - acc: 0.8145\n",
      "Epoch 3/20\n",
      "6400/6400 [==============================] - 3s 400us/step - loss: 0.4142 - acc: 0.8375\n",
      "Epoch 4/20\n",
      "6400/6400 [==============================] - 3s 483us/step - loss: 0.3653 - acc: 0.8564\n",
      "Epoch 5/20\n",
      "6400/6400 [==============================] - 3s 433us/step - loss: 0.3201 - acc: 0.8748\n",
      "Epoch 6/20\n",
      "6400/6400 [==============================] - 3s 432us/step - loss: 0.2913 - acc: 0.8898\n",
      "Epoch 7/20\n",
      "6400/6400 [==============================] - 3s 430us/step - loss: 0.2727 - acc: 0.8944\n",
      "Epoch 8/20\n",
      "6400/6400 [==============================] - 3s 440us/step - loss: 0.2446 - acc: 0.9067\n",
      "Epoch 9/20\n",
      "6400/6400 [==============================] - 3s 435us/step - loss: 0.2358 - acc: 0.9087\n",
      "Epoch 10/20\n",
      "6400/6400 [==============================] - 3s 437us/step - loss: 0.1946 - acc: 0.9253\n",
      "Epoch 11/20\n",
      "6400/6400 [==============================] - 3s 435us/step - loss: 0.1769 - acc: 0.9336\n",
      "Epoch 12/20\n",
      "6400/6400 [==============================] - 3s 438us/step - loss: 0.1525 - acc: 0.9434\n",
      "Epoch 13/20\n",
      "6400/6400 [==============================] - 3s 425us/step - loss: 0.1402 - acc: 0.9475 2\n",
      "Epoch 14/20\n",
      "6400/6400 [==============================] - 3s 432us/step - loss: 0.1412 - acc: 0.9480\n",
      "Epoch 15/20\n",
      "6400/6400 [==============================] - 3s 432us/step - loss: 0.0982 - acc: 0.9652\n",
      "Epoch 16/20\n",
      "6400/6400 [==============================] - 3s 435us/step - loss: 0.0946 - acc: 0.9656\n",
      "Epoch 17/20\n",
      "6400/6400 [==============================] - 3s 436us/step - loss: 0.0715 - acc: 0.9758\n",
      "Epoch 18/20\n",
      "6400/6400 [==============================] - 3s 439us/step - loss: 0.0570 - acc: 0.9798\n",
      "Epoch 19/20\n",
      "6400/6400 [==============================] - 3s 435us/step - loss: 0.0491 - acc: 0.9866\n",
      "Epoch 20/20\n",
      "6400/6400 [==============================] - 3s 428us/step - loss: 0.0488 - acc: 0.9836\n"
     ]
    },
    {
     "data": {
      "text/plain": [
       "<keras.callbacks.History at 0x10dbc276d30>"
      ]
     },
     "execution_count": 10,
     "metadata": {},
     "output_type": "execute_result"
    }
   ],
   "source": [
    "model.compile(optimizer='adam',loss='categorical_crossentropy',metrics=['accuracy'])\n",
    "model.fit(x_train,y_train,epochs=20,batch_size=100)"
   ]
  },
  {
   "cell_type": "markdown",
   "metadata": {},
   "source": [
    "### Predicting Results and Storing to CSV File"
   ]
  },
  {
   "cell_type": "code",
   "execution_count": 11,
   "metadata": {},
   "outputs": [],
   "source": [
    "results = model.predict(test)\n",
    "results = np.argmax(results,axis = 1)\n",
    "results = pd.Series(results,name=\"class\")\n",
    "submission = pd.concat([pd.Series(range(0,2000),name = \"image_index\"),results],axis = 1)\n",
    "submission.to_csv(\"results.csv\",index=False)"
   ]
  }
 ],
 "metadata": {
  "kernelspec": {
   "display_name": "Python 3",
   "language": "python",
   "name": "python3"
  },
  "language_info": {
   "codemirror_mode": {
    "name": "ipython",
    "version": 3
   },
   "file_extension": ".py",
   "mimetype": "text/x-python",
   "name": "python",
   "nbconvert_exporter": "python",
   "pygments_lexer": "ipython3",
   "version": "3.6.7"
  }
 },
 "nbformat": 4,
 "nbformat_minor": 2
}
